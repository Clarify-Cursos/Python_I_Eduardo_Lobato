{
 "cells": [
  {
   "cell_type": "code",
   "execution_count": 5,
   "metadata": {},
   "outputs": [],
   "source": [
    "# GORJETA\n",
    "\n",
    "# ENTRADA:\n",
    "#     Para cada mesa:\n",
    "#             Valor da conta.\n",
    "#             Bebida especial.\n",
    "#             Tempo de permanência.\n",
    "#             Deseja inserir outra mesa?\n",
    "            \n",
    "# PROCESSAMENTO:\n",
    "#     Para cada mesa:\n",
    "#         Calcule a gorjeta com base nos critérios\n",
    "#             10% do valor da conta.\n",
    "#             Se houver bebida especial, adicione R$ 5,00\n",
    "#             Se o tempo superior a 1:30, adicione R$ 15,00\n",
    "#     Acumule o valor das gorjetas.\n",
    "    \n",
    "# SAIDA:\n",
    "#     Apresente o valor total das gorjetas pagas ao garçom."
   ]
  },
  {
   "cell_type": "code",
   "execution_count": 1,
   "metadata": {},
   "outputs": [
    {
     "name": "stdout",
     "output_type": "stream",
     "text": [
      "\n",
      "Valor total das gorjetas pagas ao garçom: R$ 80.97\n"
     ]
    }
   ],
   "source": [
    "def calcular_gorjeta():\n",
    "    total_gorjetas = 0  # Inicializa o total de gorjetas acumuladas\n",
    "\n",
    "    while True:\n",
    "        # Entrada de dados para cada mesa\n",
    "        valor_conta = float(input(\"Digite o valor da conta: R$ \"))\n",
    "        bebida_especial = input(\"Houve bebida especial? (sim/não): \").strip().lower()\n",
    "        tempo_permanencia = float(input(\"Digite o tempo de permanência em horas (ex: 1.5 para 1h30m): \"))\n",
    "\n",
    "        # Calcular a gorjeta base (10% do valor da conta)\n",
    "        gorjeta = valor_conta * 0.10\n",
    "\n",
    "        # Se houver bebida especial, adiciona R$ 5,00\n",
    "        if bebida_especial == 'sim':\n",
    "            gorjeta += 5.00\n",
    "\n",
    "        # Se o tempo de permanência for superior a 1h30, adiciona R$ 15,00\n",
    "        if tempo_permanencia > 1.5:\n",
    "            gorjeta += 15.00\n",
    "\n",
    "        # Acumula a gorjeta total\n",
    "        total_gorjetas += gorjeta\n",
    "\n",
    "        # Pergunta se deseja inserir outra mesa\n",
    "        outra_mesa = input(\"Deseja inserir outra mesa? (sim/não): \").strip().lower()\n",
    "        if outra_mesa != 'sim':\n",
    "            break\n",
    "\n",
    "    # Exibe o valor total das gorjetas\n",
    "    print(f\"\\nValor total das gorjetas pagas ao garçom: R$ {total_gorjetas:.2f}\")\n",
    "\n",
    "# Chama a função\n",
    "calcular_gorjeta()"
   ]
  },
  {
   "cell_type": "code",
   "execution_count": 4,
   "metadata": {},
   "outputs": [
    {
     "ename": "SyntaxError",
     "evalue": "invalid syntax (2478940832.py, line 9)",
     "output_type": "error",
     "traceback": [
      "\u001b[1;36m  Cell \u001b[1;32mIn[4], line 9\u001b[1;36m\u001b[0m\n\u001b[1;33m    gorjetoa = valor_conta * 10%\u001b[0m\n\u001b[1;37m                                ^\u001b[0m\n\u001b[1;31mSyntaxError\u001b[0m\u001b[1;31m:\u001b[0m invalid syntax\n"
     ]
    }
   ],
   "source": [
    "def calcular_gorjeta():\n",
    "    total_gorjetas = 0\n",
    "\n",
    "    while True:\n",
    "        valor_conta = float(input(\"Digite o valor da conta :\"))\n",
    "        bebida_especial = input(\"Houve bebida especial (sim/não) ?\").strip().lower()\n",
    "        tempo_permanencia = float(input(\"digite o tempo de permanência em horas (ex: 1.5 para 1 hora e meia) :\"))\n",
    "\n",
    "        gorjetoa = valor_conta * 0.10\n",
    "\n",
    "        if bebida_especial == 'sim':\n",
    "            gorjeta = gorjeta + 5.00\n",
    "\n",
    "        if tempo_permanencia > 1.5:\n",
    "            gorjeta = gorjeta + 15.00\n",
    "\n",
    "        total_gorjetas += gorjeta\n",
    "\n",
    "        outra_mesa = input(\"Deseja inserir outra mesa (sim/não) ?\").strip().lower()\n",
    "        if outra_mesa !='sim':\n",
    "            break\n",
    "\n",
    "    print(f'\\nValor total de gorjetas, R$ {total_gorjetas:.2f}')\n",
    "\n",
    "calcular_gorjeta()\n",
    "\n",
    "        \n",
    "\n",
    "        \n",
    "\n",
    "\n",
    "\n",
    "\n",
    "\n",
    "\n",
    "\n",
    "\n",
    "\n"
   ]
  }
 ],
 "metadata": {
  "kernelspec": {
   "display_name": "Python 3",
   "language": "python",
   "name": "python3"
  },
  "language_info": {
   "codemirror_mode": {
    "name": "ipython",
    "version": 3
   },
   "file_extension": ".py",
   "mimetype": "text/x-python",
   "name": "python",
   "nbconvert_exporter": "python",
   "pygments_lexer": "ipython3",
   "version": "3.11.9"
  }
 },
 "nbformat": 4,
 "nbformat_minor": 2
}
