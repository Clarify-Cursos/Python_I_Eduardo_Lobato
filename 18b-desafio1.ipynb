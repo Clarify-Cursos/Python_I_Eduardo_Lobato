{
 "cells": [
  {
   "cell_type": "code",
   "execution_count": 3,
   "metadata": {},
   "outputs": [],
   "source": [
    "# GORJETA\n",
    "\n",
    "# ENTRADA:\n",
    "#     Para cada mesa:\n",
    "#             Valor da conta.\n",
    "#             Bebida especial.\n",
    "#             Tempo de permanência.\n",
    "#             Deseja inserir outra mesa?\n",
    "            \n",
    "# PROCESSAMENTO:\n",
    "#     Para cada mesa:\n",
    "#         Calcule a gorjeta com base nos critérios\n",
    "#             10% do valor da conta.\n",
    "#             Se houver bebida especial, adicione R$ 5,00\n",
    "#             Se o tempo superior a 1:30, adicione R$ 15,00\n",
    "#     Acumule o valor das gorjetas.\n",
    "    \n",
    "# SAIDA:\n",
    "#     Apresente o valor total das gorjetas pagas ao garçom."
   ]
  },
  {
   "cell_type": "code",
   "execution_count": 4,
   "metadata": {},
   "outputs": [
    {
     "ename": "IndentationError",
     "evalue": "expected an indented block after function definition on line 1 (1977550065.py, line 5)",
     "output_type": "error",
     "traceback": [
      "\u001b[1;36m  Cell \u001b[1;32mIn[4], line 5\u001b[1;36m\u001b[0m\n\u001b[1;33m    while True:\u001b[0m\n\u001b[1;37m    ^\u001b[0m\n\u001b[1;31mIndentationError\u001b[0m\u001b[1;31m:\u001b[0m expected an indented block after function definition on line 1\n"
     ]
    }
   ],
   "source": [
    "def calcular_gorjeta(valor_conta,bebida_especial,tempo):\n",
    "    \n",
    "    \n",
    "    \n",
    "while True:\n",
    "    \n",
    "    \n",
    "    \n",
    "print(f\"\\n\\nSuas gorjetas hoje: {total_gorjetas:.2f}\")"
   ]
  },
  {
   "cell_type": "code",
   "execution_count": 5,
   "metadata": {},
   "outputs": [],
   "source": [
    "def calcular_gorjeta(valor_conta,bebida_especial,tempo):\n",
    "    gorjet = valor_conta+bebida_especial+tempo\n",
    "    return gorjet"
   ]
  },
  {
   "cell_type": "code",
   "execution_count": 6,
   "metadata": {},
   "outputs": [
    {
     "data": {
      "text/plain": [
       "5"
      ]
     },
     "execution_count": 6,
     "metadata": {},
     "output_type": "execute_result"
    }
   ],
   "source": [
    "calcular_gorjeta(2,1,2)"
   ]
  },
  {
   "cell_type": "code",
   "execution_count": null,
   "metadata": {},
   "outputs": [],
   "source": []
  }
 ],
 "metadata": {
  "kernelspec": {
   "display_name": "Python 3",
   "language": "python",
   "name": "python3"
  },
  "language_info": {
   "codemirror_mode": {
    "name": "ipython",
    "version": 3
   },
   "file_extension": ".py",
   "mimetype": "text/x-python",
   "name": "python",
   "nbconvert_exporter": "python",
   "pygments_lexer": "ipython3",
   "version": "3.12.4"
  }
 },
 "nbformat": 4,
 "nbformat_minor": 2
}
