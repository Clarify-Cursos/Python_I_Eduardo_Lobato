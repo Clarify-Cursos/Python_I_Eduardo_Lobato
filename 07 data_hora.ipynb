{
 "cells": [
  {
   "cell_type": "code",
   "execution_count": 3,
   "metadata": {},
   "outputs": [
    {
     "ename": "ModuleNotFoundError",
     "evalue": "No module named 'pytz'",
     "output_type": "error",
     "traceback": [
      "\u001b[31m---------------------------------------------------------------------------\u001b[39m",
      "\u001b[31mModuleNotFoundError\u001b[39m                       Traceback (most recent call last)",
      "\u001b[36mCell\u001b[39m\u001b[36m \u001b[39m\u001b[32mIn[3]\u001b[39m\u001b[32m, line 4\u001b[39m\n\u001b[32m      1\u001b[39m \u001b[38;5;66;03m#instalar a biblioteca pandas para este exercício ( pip install pandas)\u001b[39;00m\n\u001b[32m      3\u001b[39m \u001b[38;5;28;01mfrom\u001b[39;00m\u001b[38;5;250m \u001b[39m\u001b[34;01mdatetime\u001b[39;00m\u001b[38;5;250m \u001b[39m\u001b[38;5;28;01mimport\u001b[39;00m datetime\n\u001b[32m----> \u001b[39m\u001b[32m4\u001b[39m \u001b[38;5;28;01mfrom\u001b[39;00m\u001b[38;5;250m \u001b[39m\u001b[34;01mpytz\u001b[39;00m\u001b[38;5;250m \u001b[39m\u001b[38;5;28;01mimport\u001b[39;00m timezone\n\u001b[32m      6\u001b[39m \u001b[38;5;28mprint\u001b[39m(datetime.today())\n\u001b[32m      7\u001b[39m \u001b[38;5;28mprint\u001b[39m(datetime.now())\n",
      "\u001b[31mModuleNotFoundError\u001b[39m: No module named 'pytz'"
     ]
    }
   ],
   "source": [
    "#instalar a biblioteca pandas para este exercício ( pip install pandas)\n",
    "\n",
    "from datetime import datetime\n",
    "from pytz import timezone\n",
    "\n",
    "print(datetime.today())\n",
    "print(datetime.now())\n",
    "print(datetime.now().time())\n",
    "print(datetime.now().date())\n",
    "print(datetime.now().strftime('%d.%m.%Y | %H:%M'))\n",
    "\n",
    "data_hora = datetime.now()\n",
    "fuso_brasil = timezone('America/Sao_Paulo')\n",
    "fuso_tokyo = timezone('Asia/Tokyo')\n",
    "data_local_TK = data_hora.astimezone(fuso_tokyo)\\\n",
    "                .strftime('%d.%m.%Y | %H:%M')\n",
    "\n",
    "print(data_local_TK)"
   ]
  }
 ],
 "metadata": {
  "kernelspec": {
   "display_name": "Python 3",
   "language": "python",
   "name": "python3"
  },
  "language_info": {
   "codemirror_mode": {
    "name": "ipython",
    "version": 3
   },
   "file_extension": ".py",
   "mimetype": "text/x-python",
   "name": "python",
   "nbconvert_exporter": "python",
   "pygments_lexer": "ipython3",
   "version": "3.12.9"
  }
 },
 "nbformat": 4,
 "nbformat_minor": 2
}
